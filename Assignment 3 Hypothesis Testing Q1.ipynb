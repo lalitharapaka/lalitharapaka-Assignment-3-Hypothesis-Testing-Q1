{
 "cells": [
  {
   "cell_type": "markdown",
   "id": "2cb88298",
   "metadata": {},
   "source": [
    "A F&B manager wants to determine whether there is any significant difference in the diameter of the cutlet between two units. A randomly selected sample of cutlets was collected from both units and measured? Analyze the data and draw inferences at 5% significance level. Please state the assumptions and tests that you carried out to check validity of the assumptions!"
   ]
  },
  {
   "cell_type": "markdown",
   "id": "163d80ee",
   "metadata": {},
   "source": [
    "Assumption - Null hyposthesis as Ho: μ1 = μ2. There is no difference in diameters of cutlets between two units.\n",
    "\n",
    "Alternate hypothesis as Ha: μ1 ≠ μ2 .That is there is significant difference in diameters of cutlets between two units.\n",
    "\n",
    "As alternate hypothesis is μ1 ≠ μ2. We will do two tail testing."
   ]
  },
  {
   "cell_type": "code",
   "execution_count": 24,
   "id": "f19d034a",
   "metadata": {},
   "outputs": [],
   "source": [
    "### importing required libraries\n",
    "\n",
    "import pandas as pd \n",
    "import numpy as np\n",
    "from scipy import stats \n",
    "from scipy.stats import norm \n"
   ]
  },
  {
   "cell_type": "code",
   "execution_count": 3,
   "id": "e64fbd53",
   "metadata": {},
   "outputs": [
    {
     "data": {
      "text/html": [
       "<div>\n",
       "<style scoped>\n",
       "    .dataframe tbody tr th:only-of-type {\n",
       "        vertical-align: middle;\n",
       "    }\n",
       "\n",
       "    .dataframe tbody tr th {\n",
       "        vertical-align: top;\n",
       "    }\n",
       "\n",
       "    .dataframe thead th {\n",
       "        text-align: right;\n",
       "    }\n",
       "</style>\n",
       "<table border=\"1\" class=\"dataframe\">\n",
       "  <thead>\n",
       "    <tr style=\"text-align: right;\">\n",
       "      <th></th>\n",
       "      <th>Unit A</th>\n",
       "      <th>Unit B</th>\n",
       "    </tr>\n",
       "  </thead>\n",
       "  <tbody>\n",
       "    <tr>\n",
       "      <th>0</th>\n",
       "      <td>6.8090</td>\n",
       "      <td>6.7703</td>\n",
       "    </tr>\n",
       "    <tr>\n",
       "      <th>1</th>\n",
       "      <td>6.4376</td>\n",
       "      <td>7.5093</td>\n",
       "    </tr>\n",
       "    <tr>\n",
       "      <th>2</th>\n",
       "      <td>6.9157</td>\n",
       "      <td>6.7300</td>\n",
       "    </tr>\n",
       "    <tr>\n",
       "      <th>3</th>\n",
       "      <td>7.3012</td>\n",
       "      <td>6.7878</td>\n",
       "    </tr>\n",
       "    <tr>\n",
       "      <th>4</th>\n",
       "      <td>7.4488</td>\n",
       "      <td>7.1522</td>\n",
       "    </tr>\n",
       "  </tbody>\n",
       "</table>\n",
       "</div>"
      ],
      "text/plain": [
       "   Unit A  Unit B\n",
       "0  6.8090  6.7703\n",
       "1  6.4376  7.5093\n",
       "2  6.9157  6.7300\n",
       "3  7.3012  6.7878\n",
       "4  7.4488  7.1522"
      ]
     },
     "execution_count": 3,
     "metadata": {},
     "output_type": "execute_result"
    }
   ],
   "source": [
    "### upload the data file\n",
    "\n",
    "Cutlet_data = pd.read_csv(\"Cutlets.csv\")\n",
    "Cutlet_data.head()"
   ]
  },
  {
   "cell_type": "code",
   "execution_count": 6,
   "id": "095ac392",
   "metadata": {},
   "outputs": [
    {
     "data": {
      "text/plain": [
       "0     6.8090\n",
       "1     6.4376\n",
       "2     6.9157\n",
       "3     7.3012\n",
       "4     7.4488\n",
       "5     7.3871\n",
       "6     6.8755\n",
       "7     7.0621\n",
       "8     6.6840\n",
       "9     6.8236\n",
       "10    7.3930\n",
       "11    7.5169\n",
       "12    6.9246\n",
       "13    6.9256\n",
       "14    6.5797\n",
       "15    6.8394\n",
       "16    6.5970\n",
       "17    7.2705\n",
       "18    7.2828\n",
       "19    7.3495\n",
       "20    6.9438\n",
       "21    7.1560\n",
       "22    6.5341\n",
       "23    7.2854\n",
       "24    6.9952\n",
       "25    6.8568\n",
       "26    7.2163\n",
       "27    6.6801\n",
       "28    6.9431\n",
       "29    7.0852\n",
       "30    6.7794\n",
       "31    7.2783\n",
       "32    7.1561\n",
       "33    7.3943\n",
       "34    6.9405\n",
       "Name: Unit A, dtype: float64"
      ]
     },
     "execution_count": 6,
     "metadata": {},
     "output_type": "execute_result"
    }
   ],
   "source": [
    "unitA = pd.Series(Cutlet_data.iloc[:,0])\n",
    "unitA"
   ]
  },
  {
   "cell_type": "code",
   "execution_count": 7,
   "id": "b4847857",
   "metadata": {},
   "outputs": [
    {
     "data": {
      "text/plain": [
       "count    35.000000\n",
       "mean      7.019091\n",
       "std       0.288408\n",
       "min       6.437600\n",
       "25%       6.831500\n",
       "50%       6.943800\n",
       "75%       7.280550\n",
       "max       7.516900\n",
       "Name: Unit A, dtype: float64"
      ]
     },
     "execution_count": 7,
     "metadata": {},
     "output_type": "execute_result"
    }
   ],
   "source": [
    "unitA.describe()"
   ]
  },
  {
   "cell_type": "code",
   "execution_count": 8,
   "id": "ea4b6261",
   "metadata": {},
   "outputs": [
    {
     "data": {
      "text/plain": [
       "0     6.7703\n",
       "1     7.5093\n",
       "2     6.7300\n",
       "3     6.7878\n",
       "4     7.1522\n",
       "5     6.8110\n",
       "6     7.2212\n",
       "7     6.6606\n",
       "8     7.2402\n",
       "9     7.0503\n",
       "10    6.8810\n",
       "11    7.4059\n",
       "12    6.7652\n",
       "13    6.0380\n",
       "14    7.1581\n",
       "15    7.0240\n",
       "16    6.6672\n",
       "17    7.4314\n",
       "18    7.3070\n",
       "19    6.7478\n",
       "20    6.8889\n",
       "21    7.4220\n",
       "22    6.5217\n",
       "23    7.1688\n",
       "24    6.7594\n",
       "25    6.9399\n",
       "26    7.0133\n",
       "27    6.9182\n",
       "28    6.3346\n",
       "29    7.5459\n",
       "30    7.0992\n",
       "31    7.1180\n",
       "32    6.6965\n",
       "33    6.5780\n",
       "34    7.3875\n",
       "Name: Unit B, dtype: float64"
      ]
     },
     "execution_count": 8,
     "metadata": {},
     "output_type": "execute_result"
    }
   ],
   "source": [
    "unitB = pd.Series(Cutlet_data.iloc[:,1])\n",
    "unitB"
   ]
  },
  {
   "cell_type": "code",
   "execution_count": 9,
   "id": "4685a649",
   "metadata": {},
   "outputs": [
    {
     "data": {
      "text/plain": [
       "count    35.000000\n",
       "mean      6.964297\n",
       "std       0.343401\n",
       "min       6.038000\n",
       "25%       6.753600\n",
       "50%       6.939900\n",
       "75%       7.195000\n",
       "max       7.545900\n",
       "Name: Unit B, dtype: float64"
      ]
     },
     "execution_count": 9,
     "metadata": {},
     "output_type": "execute_result"
    }
   ],
   "source": [
    "unitB.describe()"
   ]
  },
  {
   "cell_type": "code",
   "execution_count": 13,
   "id": "794a2945",
   "metadata": {},
   "outputs": [
    {
     "data": {
      "text/plain": [
       "ShapiroResult(statistic=0.9649458527565002, pvalue=0.3199819028377533)"
      ]
     },
     "execution_count": 13,
     "metadata": {},
     "output_type": "execute_result"
    }
   ],
   "source": [
    "### Checking normality using Shapiro-Wilks test\n",
    "\n",
    "stats.shapiro(unitA)"
   ]
  },
  {
   "cell_type": "code",
   "execution_count": 14,
   "id": "137a1cd2",
   "metadata": {},
   "outputs": [
    {
     "data": {
      "text/plain": [
       "ShapiroResult(statistic=0.9727300405502319, pvalue=0.5224985480308533)"
      ]
     },
     "execution_count": 14,
     "metadata": {},
     "output_type": "execute_result"
    }
   ],
   "source": [
    "stats.shapiro(unitB)"
   ]
  },
  {
   "cell_type": "markdown",
   "id": "5727f50f",
   "metadata": {},
   "source": [
    "### At 5% significance level i.e., α= 0.05.\n",
    "\n",
    "and from shapiro wilks test above we can see the pvalues are greater than significance level α. Hence the data is \n",
    "normally distributed and the null hypothesis stands true.\n",
    "\n"
   ]
  },
  {
   "cell_type": "code",
   "execution_count": 18,
   "id": "4a9926e2",
   "metadata": {},
   "outputs": [
    {
     "name": "stdout",
     "output_type": "stream",
     "text": [
      "Requirement already satisfied: pingouin in c:\\users\\lalitha rapaka\\anaconda3\\lib\\site-packages (0.5.0)\n",
      "Requirement already satisfied: pandas-flavor>=0.2.0 in c:\\users\\lalitha rapaka\\anaconda3\\lib\\site-packages (from pingouin) (0.2.0)\n",
      "Requirement already satisfied: scikit-learn in c:\\users\\lalitha rapaka\\anaconda3\\lib\\site-packages (from pingouin) (0.24.1)\n",
      "Requirement already satisfied: outdated in c:\\users\\lalitha rapaka\\anaconda3\\lib\\site-packages (from pingouin) (0.2.1)\n",
      "Requirement already satisfied: scipy>=1.7 in c:\\users\\lalitha rapaka\\anaconda3\\lib\\site-packages (from pingouin) (1.7.3)\n",
      "Requirement already satisfied: numpy>=1.19 in c:\\users\\lalitha rapaka\\anaconda3\\lib\\site-packages (from pingouin) (1.20.1)\n",
      "Requirement already satisfied: seaborn>=0.9.0 in c:\\users\\lalitha rapaka\\anaconda3\\lib\\site-packages (from pingouin) (0.11.1)\n",
      "Requirement already satisfied: tabulate in c:\\users\\lalitha rapaka\\anaconda3\\lib\\site-packages (from pingouin) (0.8.9)\n",
      "Requirement already satisfied: statsmodels>=0.12.0 in c:\\users\\lalitha rapaka\\anaconda3\\lib\\site-packages (from pingouin) (0.12.2)\n",
      "Requirement already satisfied: pandas>=1.0 in c:\\users\\lalitha rapaka\\anaconda3\\lib\\site-packages (from pingouin) (1.2.4)\n",
      "Requirement already satisfied: matplotlib>=3.0.2 in c:\\users\\lalitha rapaka\\anaconda3\\lib\\site-packages (from pingouin) (3.3.4)\n",
      "Requirement already satisfied: pyparsing!=2.0.4,!=2.1.2,!=2.1.6,>=2.0.3 in c:\\users\\lalitha rapaka\\anaconda3\\lib\\site-packages (from matplotlib>=3.0.2->pingouin) (2.4.7)\n",
      "Requirement already satisfied: pillow>=6.2.0 in c:\\users\\lalitha rapaka\\anaconda3\\lib\\site-packages (from matplotlib>=3.0.2->pingouin) (8.2.0)\n",
      "Requirement already satisfied: python-dateutil>=2.1 in c:\\users\\lalitha rapaka\\anaconda3\\lib\\site-packages (from matplotlib>=3.0.2->pingouin) (2.8.1)\n",
      "Requirement already satisfied: kiwisolver>=1.0.1 in c:\\users\\lalitha rapaka\\anaconda3\\lib\\site-packages (from matplotlib>=3.0.2->pingouin) (1.3.1)\n",
      "Requirement already satisfied: cycler>=0.10 in c:\\users\\lalitha rapaka\\anaconda3\\lib\\site-packages (from matplotlib>=3.0.2->pingouin) (0.10.0)\n",
      "Requirement already satisfied: six in c:\\users\\lalitha rapaka\\anaconda3\\lib\\site-packages (from cycler>=0.10->matplotlib>=3.0.2->pingouin) (1.15.0)\n",
      "Requirement already satisfied: pytz>=2017.3 in c:\\users\\lalitha rapaka\\anaconda3\\lib\\site-packages (from pandas>=1.0->pingouin) (2021.1)\n",
      "Requirement already satisfied: xarray in c:\\users\\lalitha rapaka\\anaconda3\\lib\\site-packages (from pandas-flavor>=0.2.0->pingouin) (0.20.2)\n",
      "Requirement already satisfied: patsy>=0.5 in c:\\users\\lalitha rapaka\\anaconda3\\lib\\site-packages (from statsmodels>=0.12.0->pingouin) (0.5.1)\n",
      "Requirement already satisfied: requests in c:\\users\\lalitha rapaka\\anaconda3\\lib\\site-packages (from outdated->pingouin) (2.25.1)\n",
      "Requirement already satisfied: littleutils in c:\\users\\lalitha rapaka\\anaconda3\\lib\\site-packages (from outdated->pingouin) (0.2.2)\n",
      "Requirement already satisfied: urllib3<1.27,>=1.21.1 in c:\\users\\lalitha rapaka\\anaconda3\\lib\\site-packages (from requests->outdated->pingouin) (1.26.4)\n",
      "Requirement already satisfied: certifi>=2017.4.17 in c:\\users\\lalitha rapaka\\anaconda3\\lib\\site-packages (from requests->outdated->pingouin) (2020.12.5)\n",
      "Requirement already satisfied: idna<3,>=2.5 in c:\\users\\lalitha rapaka\\anaconda3\\lib\\site-packages (from requests->outdated->pingouin) (2.10)\n",
      "Requirement already satisfied: chardet<5,>=3.0.2 in c:\\users\\lalitha rapaka\\anaconda3\\lib\\site-packages (from requests->outdated->pingouin) (4.0.0)\n",
      "Requirement already satisfied: threadpoolctl>=2.0.0 in c:\\users\\lalitha rapaka\\anaconda3\\lib\\site-packages (from scikit-learn->pingouin) (2.1.0)\n",
      "Requirement already satisfied: joblib>=0.11 in c:\\users\\lalitha rapaka\\anaconda3\\lib\\site-packages (from scikit-learn->pingouin) (1.0.1)\n"
     ]
    }
   ],
   "source": [
    "### checking two tail test using Pingouin\n",
    "\n",
    "!pip install pingouin\n",
    "\n",
    "import pingouin as pg \n"
   ]
  },
  {
   "cell_type": "code",
   "execution_count": 19,
   "id": "9d446e6b",
   "metadata": {},
   "outputs": [
    {
     "data": {
      "text/html": [
       "<div>\n",
       "<style scoped>\n",
       "    .dataframe tbody tr th:only-of-type {\n",
       "        vertical-align: middle;\n",
       "    }\n",
       "\n",
       "    .dataframe tbody tr th {\n",
       "        vertical-align: top;\n",
       "    }\n",
       "\n",
       "    .dataframe thead th {\n",
       "        text-align: right;\n",
       "    }\n",
       "</style>\n",
       "<table border=\"1\" class=\"dataframe\">\n",
       "  <thead>\n",
       "    <tr style=\"text-align: right;\">\n",
       "      <th></th>\n",
       "      <th>T</th>\n",
       "      <th>dof</th>\n",
       "      <th>alternative</th>\n",
       "      <th>p-val</th>\n",
       "      <th>CI95%</th>\n",
       "      <th>cohen-d</th>\n",
       "      <th>BF10</th>\n",
       "      <th>power</th>\n",
       "    </tr>\n",
       "  </thead>\n",
       "  <tbody>\n",
       "    <tr>\n",
       "      <th>T-test</th>\n",
       "      <td>0.722869</td>\n",
       "      <td>68</td>\n",
       "      <td>two-sided</td>\n",
       "      <td>0.472239</td>\n",
       "      <td>[-0.1, 0.21]</td>\n",
       "      <td>0.172799</td>\n",
       "      <td>0.308</td>\n",
       "      <td>0.109914</td>\n",
       "    </tr>\n",
       "  </tbody>\n",
       "</table>\n",
       "</div>"
      ],
      "text/plain": [
       "               T  dof alternative     p-val         CI95%   cohen-d   BF10  \\\n",
       "T-test  0.722869   68   two-sided  0.472239  [-0.1, 0.21]  0.172799  0.308   \n",
       "\n",
       "           power  \n",
       "T-test  0.109914  "
      ]
     },
     "metadata": {},
     "output_type": "display_data"
    }
   ],
   "source": [
    "res = pg.ttest(unitA, unitB)\n",
    "display(res)"
   ]
  },
  {
   "cell_type": "code",
   "execution_count": null,
   "id": "b20f9b9e",
   "metadata": {},
   "outputs": [],
   "source": []
  }
 ],
 "metadata": {
  "kernelspec": {
   "display_name": "Python 3",
   "language": "python",
   "name": "python3"
  },
  "language_info": {
   "codemirror_mode": {
    "name": "ipython",
    "version": 3
   },
   "file_extension": ".py",
   "mimetype": "text/x-python",
   "name": "python",
   "nbconvert_exporter": "python",
   "pygments_lexer": "ipython3",
   "version": "3.8.8"
  }
 },
 "nbformat": 4,
 "nbformat_minor": 5
}
